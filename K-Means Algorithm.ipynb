{
  "cells": [
    {
      "cell_type": "markdown",
      "metadata": {
        "id": "view-in-github",
        "colab_type": "text"
      },
      "source": [
        "<a href=\"https://colab.research.google.com/github/amirseken/ECE421-Machine-Learning/blob/main/K-Means%20Algorithm.ipynb\" target=\"_parent\"><img src=\"https://colab.research.google.com/assets/colab-badge.svg\" alt=\"Open In Colab\"/></a>"
      ]
    },
    {
      "cell_type": "code",
      "source": [
        "# Part 1\n",
        "\n",
        "import numpy as np\n",
        "\n",
        "from sklearn.datasets import load_breast_cancer\n",
        "data = load_breast_cancer(as_frame=True)[\"data\"]\n",
        "\n",
        "\n",
        "def kmeans(dataset, k):\n",
        "\n",
        "\n",
        "    og_centroids = dataset[np.random.choice(len(dataset), k, replace=False)]\n",
        "\n",
        "\n",
        "    max_iterations = 500\n",
        "\n",
        "    for iteration in range(max_iterations):\n",
        "        assignments = [] # c's\n",
        "\n",
        "        #cluster assignment step\n",
        "        for x in dataset:\n",
        "            d = []\n",
        "            for mu in og_centroids:\n",
        "                d.append((np.linalg.norm(x - mu))**2)\n",
        "            cluster_index = np.argmin(d)\n",
        "            assignments.append(cluster_index)\n",
        "\n",
        "        #centroid move step\n",
        "        centroids = []\n",
        "        for i in range(k):\n",
        "            assignment_grouping = []\n",
        "            for j in range(len(assignments)):\n",
        "                if (assignments[j] == i):\n",
        "                    assignment_grouping.append(dataset[j])\n",
        "            centroids.append(np.mean(assignment_grouping, axis = 0))\n",
        "\n",
        "        #check if it has converged\n",
        "        if np.allclose(centroids, og_centroids):\n",
        "            break\n",
        "        og_centroids = centroids\n",
        "\n",
        "\n",
        "    return (centroids, assignments)\n",
        "\n",
        "\n",
        "\n"
      ],
      "metadata": {
        "id": "Tqbv9PQKTFV1"
      },
      "execution_count": 31,
      "outputs": []
    },
    {
      "cell_type": "code",
      "source": [
        "#Part 2,3\n",
        "#initialize distortions for each k\n",
        "distortions = []\n",
        "#function to compute distortion\n",
        "def J_from_kmeans(dataset, centroids, assignments):\n",
        "    J = 0\n",
        "\n",
        "    for i, x in enumerate(dataset):\n",
        "        centroid = centroids[assignments[i]]\n",
        "        J += (np.linalg.norm(x - centroid))**2\n",
        "    return J\n",
        "\n",
        "\n",
        "for k in range(2, 8):\n",
        "  centroids, assignments = kmeans(data.to_numpy(), k)\n",
        "  distortions.append(J_from_kmeans(data.to_numpy(),centroids,assignments))\n",
        "\n",
        "\n"
      ],
      "metadata": {
        "id": "lqn4RKYyIbAq"
      },
      "execution_count": 32,
      "outputs": []
    },
    {
      "cell_type": "code",
      "source": [
        "\n",
        "import matplotlib.pyplot as plt\n",
        "\n",
        "\n",
        "\n",
        "#plot\n",
        "k_list = np.array([2,3,4,5,6,7])\n",
        "\n",
        "plt.plot(k_list, distortions)\n",
        "\n",
        "plt.xlabel('# of clusters, k')\n",
        "plt.ylabel('Distortion, J')\n",
        "\n",
        "plt.show()\n",
        "\n"
      ],
      "metadata": {
        "id": "7_QTqirNOZm6"
      },
      "execution_count": null,
      "outputs": []
    }
  ],
  "metadata": {
    "colab": {
      "name": "Welcome to Colaboratory",
      "toc_visible": true,
      "provenance": [],
      "gpuType": "T4",
      "include_colab_link": true
    },
    "kernelspec": {
      "display_name": "Python 3",
      "name": "python3"
    },
    "accelerator": "GPU"
  },
  "nbformat": 4,
  "nbformat_minor": 0
}